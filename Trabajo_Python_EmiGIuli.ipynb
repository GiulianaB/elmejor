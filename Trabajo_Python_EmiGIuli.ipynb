{
 "cells": [
  {
   "cell_type": "code",
   "execution_count": null,
   "metadata": {
    "collapsed": true
   },
   "outputs": [],
   "source": [
    "# Automatizando la bajada de datos.. ÉXITO! :)\n",
    "import requests\n",
    "url = 'http://www.esrl.noaa.gov/psd/cgi-bin/db_search/DBListFiles.pl?did=98&tid=53069&vid=1914'\n",
    "html = requests.get(url, timeout=10)\n",
    "#print(html.text)\n",
    "\n",
    "from bs4 import BeautifulSoup\n",
    "soup = BeautifulSoup(html.text, 'html.parser')\n",
    "listado_links = soup.find('div', attrs={'id':\"content\"})\n",
    "print(listado_links)"
   ]
  },
  {
   "cell_type": "code",
   "execution_count": null,
   "metadata": {
    "collapsed": true
   },
   "outputs": [],
   "source": [
    "lista_a = listado_links.findAll('a')[1:]\n",
    "print(lista_a)"
   ]
  },
  {
   "cell_type": "code",
   "execution_count": null,
   "metadata": {
    "collapsed": true
   },
   "outputs": [],
   "source": [
    "link = []\n",
    "for i in range(len(lista_a)):\n",
    "    link.append(lista_a[i].attrs['href'])\n",
    "print(link)"
   ]
  },
  {
   "cell_type": "code",
   "execution_count": null,
   "metadata": {
    "collapsed": true
   },
   "outputs": [],
   "source": [
    "anio = input('Seleccione el año que quiera (1980-2016) =  ')\n",
    "anios = []\n",
    "for i in range(len(lista_a)):\n",
    "    anios.append(link[i][43:47])\n",
    "    \n",
    "for i in range(len(lista_a)):\n",
    "    if anio == anios[i]:\n",
    "        respuesta=['Bien, el archivo se descargará']\n",
    "        A=i\n",
    "        print(respuesta)\n",
    "        import urllib.request\n",
    "        urllib.request.urlretrieve(link[A], 'salt'+anio+'.nc')\n",
    "        req = urllib.request.Request(link[A])\n",
    "        print(':)')\n",
    "\n",
    "    elif anio not in anios\n",
    "        print('Anio no disponible')"
   ]
  },
  {
   "cell_type": "code",
   "execution_count": null,
   "metadata": {
    "collapsed": true
   },
   "outputs": [],
   "source": []
  },
  {
   "cell_type": "code",
   "execution_count": null,
   "metadata": {
    "collapsed": true
   },
   "outputs": [],
   "source": [
    "#Salinidad del ESRL de la NOAA - Dibujo un mapa global y serie temporal\n",
    "\n",
    "import netCDF4\n",
    "import numpy as np\n",
    "import matplotlib.pyplot as plt\n",
    "import mpl_toolkits.basemap as bm\n",
    "\n",
    "%matplotlib inline\n",
    "A = netCDF4.Dataset('salt'+anio+'.nc','r') \n",
    "\n",
    "print(A.variables.keys()) # Nombres de las variables\n",
    "\n",
    "lat,lon = A.variables['lat'][:], A.variables['lon'][:] # Defino Latitud y Longitud (tipo array)\n",
    "time,data = A.variables['time'][:], A.variables['date']\n",
    "level=A.variables['level']\n",
    "salt = A.variables['salt'][:] # Defino la sal (tipo array)\n",
    "\n",
    "mapa_salinidad=plt.figure(figsize=(10,10))\n",
    "mapproj = bm.Basemap(projection='cyl',\n",
    "                     llcrnrlat=-90.0, llcrnrlon=0.0,\n",
    "                     urcrnrlat=90.0, urcrnrlon=360.0)  #defino proyeccion y limites del mapa\n",
    "mapproj.drawcoastlines()      #dibujo las costas\n",
    "mapproj.drawparallels(np.array([-60, -40, -20, 0, 20, 40, 60]), labels=[1,0,0,0])    #DIbujo paralelos\n",
    "mapproj.drawmeridians(np.array([-180, -90, 0, 90, 180]), labels=[0,0,0,1])\n",
    "lonall, latall = np.meshgrid(lon, lat)        #me creo una grilla\n",
    "lonproj, latproj = mapproj(lonall, latall)\n",
    "\n",
    "plt.contourf(lonproj, latproj, salt[8,0,:,:],14,cmap=plt.cm.rainbow)\n",
    "plt.colorbar(orientation='horizontal')\n",
    "plt.title('Salinidad ', fontsize=25) # add a title\n",
    "plt.savefig('mapa_salinidad '+anio, dpi=None, facecolor='w', edgecolor='w',\n",
    "        orientation='portrait', papertype=None, format=None,\n",
    "        transparent=False, bbox_inches=None, pad_inches=0.1,\n",
    "        frameon=None)\n",
    "\n",
    "seriesal=input('¿Desea obtener una serie temporal de salinidad en un punto determinado?(SI/NO)  ')\n",
    "\n",
    "if seriesal == 'SI':\n",
    "    lat_d=input('ingrese latitud° (-90 90) = ')\n",
    "    lon_d=input('ingrese longitud° (-180 180) = ')\n",
    "    lat_d=float(lat_d)\n",
    "    lon_d=float(lon_d)\n",
    "    lat_definida=((lat_d)*3)+223.5\n",
    "    lon_definida=((lon_d))\n",
    "    if lon_definida<0:\n",
    "        lon_definida=lon_definida+360\n",
    "    lon_definida=int(lon_definida)\n",
    "    lat_definida=int(lat_definida)\n",
    "    \n",
    "    seriet=salt[:,0,lat_definida,lon_definida]\n",
    "    mapproj.plot([-10,lon_definida],[10,lat_d],'go')\n",
    "\n",
    "    serie_temporal = plt.figure(figsize=(10,10))\n",
    "    t=[]\n",
    "    for i in range(0,12):\n",
    "        t.append(i)\n",
    "    plt.plot(t,seriet)\n",
    "    plt.title('Serie anual salinidad'+lat_d+';'+lon_d , fontsize=25) # add a title \n",
    "    labels = ['ene','feb','mar','abr','may','jun','jul','ago','sep','oct','nov','dic']\n",
    "    plt.xticks(t,labels,fontsize=12)\n",
    "    plt.xticks()\n",
    "    plt.savefig('Serie temporal '+lat_d+';'+lon_d, dpi=None, facecolor='w', edgecolor='w',\n",
    "        orientation='portrait', papertype=None, format=None,\n",
    "        transparent=False, bbox_inches=None, pad_inches=0.1,\n",
    "        frameon=None)"
   ]
  }
 ],
 "metadata": {
  "anaconda-cloud": {},
  "kernelspec": {
   "display_name": "Python [Root]",
   "language": "python",
   "name": "Python [Root]"
  },
  "language_info": {
   "codemirror_mode": {
    "name": "ipython",
    "version": 3
   },
   "file_extension": ".py",
   "mimetype": "text/x-python",
   "name": "python",
   "nbconvert_exporter": "python",
   "pygments_lexer": "ipython3",
   "version": "3.5.2"
  }
 },
 "nbformat": 4,
 "nbformat_minor": 0
}
